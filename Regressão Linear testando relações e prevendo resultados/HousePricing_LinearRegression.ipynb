{
 "cells": [
  {
   "cell_type": "markdown",
   "id": "a4bfb968",
   "metadata": {},
   "source": [
    "# Projeto final do curso **Regressão Linear: testando relações e prevendo resultados** da Alura\n",
    "\n",
    "Neste Projeto temos o objetivo de realizar algumas análises em cima do dataset HousePrices_HalfMil em busca de gerar um modelo de regressão linear para estimação do preço dos imóveis.\n",
    "\n",
    "Dataset: https://www.kaggle.com/datasets/greenwing1985/housepricing\n",
    "\n",
    "Autor: Pierre Lima"
   ]
  },
  {
   "cell_type": "markdown",
   "id": "0d8c08d3",
   "metadata": {},
   "source": [
    "# Importando bibliotecas"
   ]
  },
  {
   "cell_type": "code",
   "execution_count": 157,
   "id": "e87da381",
   "metadata": {},
   "outputs": [],
   "source": [
    "import pandas as pd\n",
    "import numpy as np"
   ]
  },
  {
   "cell_type": "code",
   "execution_count": 158,
   "id": "4a9df4c2",
   "metadata": {},
   "outputs": [],
   "source": [
    "dados = pd.read_csv('HousePrices_HalfMil.csv')"
   ]
  },
  {
   "cell_type": "code",
   "execution_count": 159,
   "id": "0b4f474a",
   "metadata": {},
   "outputs": [
    {
     "data": {
      "text/html": [
       "<div>\n",
       "<style scoped>\n",
       "    .dataframe tbody tr th:only-of-type {\n",
       "        vertical-align: middle;\n",
       "    }\n",
       "\n",
       "    .dataframe tbody tr th {\n",
       "        vertical-align: top;\n",
       "    }\n",
       "\n",
       "    .dataframe thead th {\n",
       "        text-align: right;\n",
       "    }\n",
       "</style>\n",
       "<table border=\"1\" class=\"dataframe\">\n",
       "  <thead>\n",
       "    <tr style=\"text-align: right;\">\n",
       "      <th></th>\n",
       "      <th>Area</th>\n",
       "      <th>Garage</th>\n",
       "      <th>FirePlace</th>\n",
       "      <th>Baths</th>\n",
       "      <th>White Marble</th>\n",
       "      <th>Black Marble</th>\n",
       "      <th>Indian Marble</th>\n",
       "      <th>Floors</th>\n",
       "      <th>City</th>\n",
       "      <th>Solar</th>\n",
       "      <th>Electric</th>\n",
       "      <th>Fiber</th>\n",
       "      <th>Glass Doors</th>\n",
       "      <th>Swiming Pool</th>\n",
       "      <th>Garden</th>\n",
       "      <th>Prices</th>\n",
       "    </tr>\n",
       "  </thead>\n",
       "  <tbody>\n",
       "    <tr>\n",
       "      <th>0</th>\n",
       "      <td>164</td>\n",
       "      <td>2</td>\n",
       "      <td>0</td>\n",
       "      <td>2</td>\n",
       "      <td>0</td>\n",
       "      <td>1</td>\n",
       "      <td>0</td>\n",
       "      <td>0</td>\n",
       "      <td>3</td>\n",
       "      <td>1</td>\n",
       "      <td>1</td>\n",
       "      <td>1</td>\n",
       "      <td>1</td>\n",
       "      <td>0</td>\n",
       "      <td>0</td>\n",
       "      <td>43800</td>\n",
       "    </tr>\n",
       "  </tbody>\n",
       "</table>\n",
       "</div>"
      ],
      "text/plain": [
       "   Area  Garage  FirePlace  Baths  White Marble  Black Marble  Indian Marble  \\\n",
       "0   164       2          0      2             0             1              0   \n",
       "\n",
       "   Floors  City  Solar  Electric  Fiber  Glass Doors  Swiming Pool  Garden  \\\n",
       "0       0     3      1         1      1            1             0       0   \n",
       "\n",
       "   Prices  \n",
       "0   43800  "
      ]
     },
     "execution_count": 159,
     "metadata": {},
     "output_type": "execute_result"
    }
   ],
   "source": [
    "dados.head(1)"
   ]
  },
  {
   "cell_type": "markdown",
   "id": "41fdc7c9",
   "metadata": {},
   "source": [
    "# Conhecendo o dataset"
   ]
  },
  {
   "cell_type": "markdown",
   "id": "017ebf07",
   "metadata": {},
   "source": [
    "## Variáveis do dataset"
   ]
  },
  {
   "cell_type": "code",
   "execution_count": 160,
   "id": "f1a2929c",
   "metadata": {},
   "outputs": [
    {
     "data": {
      "text/plain": [
       "Index(['Area', 'Garage', 'FirePlace', 'Baths', 'White Marble', 'Black Marble',\n",
       "       'Indian Marble', 'Floors', 'City', 'Solar', 'Electric', 'Fiber',\n",
       "       'Glass Doors', 'Swiming Pool', 'Garden', 'Prices'],\n",
       "      dtype='object')"
      ]
     },
     "execution_count": 160,
     "metadata": {},
     "output_type": "execute_result"
    }
   ],
   "source": [
    "dados.columns"
   ]
  },
  {
   "cell_type": "code",
   "execution_count": 161,
   "id": "2e9e8b53",
   "metadata": {},
   "outputs": [
    {
     "name": "stdout",
     "output_type": "stream",
     "text": [
      "O dataset possui: 500000 linhas e 16 colunas.\n"
     ]
    }
   ],
   "source": [
    "# Verificando o tamanho do dataset estudado\n",
    "dados.shape\n",
    "\n",
    "print(f'O dataset possui: {dados.shape[0]} linhas e {dados.shape[1]} colunas.')"
   ]
  },
  {
   "cell_type": "code",
   "execution_count": 162,
   "id": "82e5bc97",
   "metadata": {},
   "outputs": [
    {
     "name": "stdout",
     "output_type": "stream",
     "text": [
      "Garage: [1 2 3]\n",
      "FirePlace: [0 1 2 3 4]\n",
      "Baths: [1 2 3 4 5]\n",
      "White Marble: [0 1]\n",
      "Black Marble: [0 1]\n",
      "Indian Marble: [0 1]\n",
      "Floors: [0 1]\n",
      "City: [1 2 3]\n",
      "Solar: [0 1]\n",
      "Electric: [0 1]\n",
      "Fiber: [0 1]\n",
      "Glass Doors: [0 1]\n",
      "Swiming Pool: [0 1]\n",
      "Garden: [0 1]\n"
     ]
    }
   ],
   "source": [
    "# Exibindo os valores únicos para as variáveis do dataset(exceto Area e Prices)\n",
    "for i in dados.columns[1:-1]:\n",
    "    print(f'{i}: {np.sort(dados[i].unique())}')"
   ]
  },
  {
   "cell_type": "markdown",
   "id": "9969beed",
   "metadata": {},
   "source": [
    "**Area** - Representa a área do imóvel (m²)\n",
    "\n",
    "**Garage** - Quantidade de vagas para estacionar\n",
    "\n",
    "**FirePlace** - Quantidade de lareiras\n",
    "\n",
    "**Baths** - Quantidade de banheiros\n",
    "\n",
    "**White Marble** - Se possui acabamento em mármore branco (S/N)\n",
    "\n",
    "**Black Marble** - Se possui acabamento em mármore preto (S/N)\n",
    "\n",
    "**Indian Marble** - Se possui acabamento em mármore indiano (S/N)\n",
    "\n",
    "**Floors** - Se o imóvel possui mais de um andar (S/N)\n",
    "\n",
    "**City** - Cidade onde o imóvel esta localizado\n",
    "\n",
    "**Solar** - Se o imóvel possui suporte para energia solar (S/N)\n",
    "\n",
    "**Electric** - Se o imóvel possui suporte para energia elétrica (S/N)\n",
    "\n",
    "**Fiber** - Se o imóvel possui suporte para internet fibra (S/N)\n",
    "\n",
    "**Glass Doors** - Se o imóvel possui portas de vidro (S/N)\n",
    "\n",
    "**Swiming Pool** - Se o imóvel possui piscina (S/N)\n",
    "\n",
    "**Garden** - Se o imóvel possui jardim (S/N)"
   ]
  },
  {
   "cell_type": "markdown",
   "id": "6ccff378",
   "metadata": {},
   "source": [
    "## Verificação de valores nulos\n",
    "\n",
    "Como esperado o dataset não possui valores faltantes. Isto já era previsto, pois o dataset foi gerado por computador para iniciantes aplicarem conceitos de machine learning"
   ]
  },
  {
   "cell_type": "code",
   "execution_count": 163,
   "id": "40a02552",
   "metadata": {
    "scrolled": false
   },
   "outputs": [
    {
     "data": {
      "text/plain": [
       "Area             0\n",
       "Garage           0\n",
       "FirePlace        0\n",
       "Baths            0\n",
       "White Marble     0\n",
       "Black Marble     0\n",
       "Indian Marble    0\n",
       "Floors           0\n",
       "City             0\n",
       "Solar            0\n",
       "Electric         0\n",
       "Fiber            0\n",
       "Glass Doors      0\n",
       "Swiming Pool     0\n",
       "Garden           0\n",
       "Prices           0\n",
       "dtype: int64"
      ]
     },
     "execution_count": 163,
     "metadata": {},
     "output_type": "execute_result"
    }
   ],
   "source": [
    "dados.isnull().sum()"
   ]
  },
  {
   "cell_type": "markdown",
   "id": "d686c569",
   "metadata": {},
   "source": [
    "## Visualizando métricas descritivas\n",
    "\n",
    "Observando os valores das métricas descritivas, inicialmente pode-se dizer que não temos valores discrepantes."
   ]
  },
  {
   "cell_type": "code",
   "execution_count": 164,
   "id": "16388ba0",
   "metadata": {},
   "outputs": [
    {
     "data": {
      "text/html": [
       "<div>\n",
       "<style scoped>\n",
       "    .dataframe tbody tr th:only-of-type {\n",
       "        vertical-align: middle;\n",
       "    }\n",
       "\n",
       "    .dataframe tbody tr th {\n",
       "        vertical-align: top;\n",
       "    }\n",
       "\n",
       "    .dataframe thead th {\n",
       "        text-align: right;\n",
       "    }\n",
       "</style>\n",
       "<table border=\"1\" class=\"dataframe\">\n",
       "  <thead>\n",
       "    <tr style=\"text-align: right;\">\n",
       "      <th></th>\n",
       "      <th>Area</th>\n",
       "      <th>Garage</th>\n",
       "      <th>FirePlace</th>\n",
       "      <th>Baths</th>\n",
       "      <th>White Marble</th>\n",
       "      <th>Black Marble</th>\n",
       "      <th>Indian Marble</th>\n",
       "      <th>Floors</th>\n",
       "      <th>City</th>\n",
       "      <th>Solar</th>\n",
       "      <th>Electric</th>\n",
       "      <th>Fiber</th>\n",
       "      <th>Glass Doors</th>\n",
       "      <th>Swiming Pool</th>\n",
       "      <th>Garden</th>\n",
       "      <th>Prices</th>\n",
       "    </tr>\n",
       "  </thead>\n",
       "  <tbody>\n",
       "    <tr>\n",
       "      <th>count</th>\n",
       "      <td>500000.0000</td>\n",
       "      <td>500000.0000</td>\n",
       "      <td>500000.0000</td>\n",
       "      <td>500000.0000</td>\n",
       "      <td>500000.0000</td>\n",
       "      <td>500000.0000</td>\n",
       "      <td>500000.0000</td>\n",
       "      <td>500000.0000</td>\n",
       "      <td>500000.0000</td>\n",
       "      <td>500000.0000</td>\n",
       "      <td>500000.0000</td>\n",
       "      <td>500000.0000</td>\n",
       "      <td>500000.0000</td>\n",
       "      <td>500000.0000</td>\n",
       "      <td>500000.0000</td>\n",
       "      <td>500000.0000</td>\n",
       "    </tr>\n",
       "    <tr>\n",
       "      <th>mean</th>\n",
       "      <td>124.9296</td>\n",
       "      <td>2.0013</td>\n",
       "      <td>2.0034</td>\n",
       "      <td>2.9981</td>\n",
       "      <td>0.3330</td>\n",
       "      <td>0.3327</td>\n",
       "      <td>0.3343</td>\n",
       "      <td>0.4994</td>\n",
       "      <td>2.0009</td>\n",
       "      <td>0.4987</td>\n",
       "      <td>0.5006</td>\n",
       "      <td>0.5005</td>\n",
       "      <td>0.4999</td>\n",
       "      <td>0.5004</td>\n",
       "      <td>0.5016</td>\n",
       "      <td>42050.1394</td>\n",
       "    </tr>\n",
       "    <tr>\n",
       "      <th>std</th>\n",
       "      <td>71.7954</td>\n",
       "      <td>0.8170</td>\n",
       "      <td>1.4140</td>\n",
       "      <td>1.4142</td>\n",
       "      <td>0.4713</td>\n",
       "      <td>0.4712</td>\n",
       "      <td>0.4718</td>\n",
       "      <td>0.5000</td>\n",
       "      <td>0.8162</td>\n",
       "      <td>0.5000</td>\n",
       "      <td>0.5000</td>\n",
       "      <td>0.5000</td>\n",
       "      <td>0.5000</td>\n",
       "      <td>0.5000</td>\n",
       "      <td>0.5000</td>\n",
       "      <td>12110.2372</td>\n",
       "    </tr>\n",
       "    <tr>\n",
       "      <th>min</th>\n",
       "      <td>1.0000</td>\n",
       "      <td>1.0000</td>\n",
       "      <td>0.0000</td>\n",
       "      <td>1.0000</td>\n",
       "      <td>0.0000</td>\n",
       "      <td>0.0000</td>\n",
       "      <td>0.0000</td>\n",
       "      <td>0.0000</td>\n",
       "      <td>1.0000</td>\n",
       "      <td>0.0000</td>\n",
       "      <td>0.0000</td>\n",
       "      <td>0.0000</td>\n",
       "      <td>0.0000</td>\n",
       "      <td>0.0000</td>\n",
       "      <td>0.0000</td>\n",
       "      <td>7725.0000</td>\n",
       "    </tr>\n",
       "    <tr>\n",
       "      <th>25%</th>\n",
       "      <td>63.0000</td>\n",
       "      <td>1.0000</td>\n",
       "      <td>1.0000</td>\n",
       "      <td>2.0000</td>\n",
       "      <td>0.0000</td>\n",
       "      <td>0.0000</td>\n",
       "      <td>0.0000</td>\n",
       "      <td>0.0000</td>\n",
       "      <td>1.0000</td>\n",
       "      <td>0.0000</td>\n",
       "      <td>0.0000</td>\n",
       "      <td>0.0000</td>\n",
       "      <td>0.0000</td>\n",
       "      <td>0.0000</td>\n",
       "      <td>0.0000</td>\n",
       "      <td>33500.0000</td>\n",
       "    </tr>\n",
       "    <tr>\n",
       "      <th>50%</th>\n",
       "      <td>125.0000</td>\n",
       "      <td>2.0000</td>\n",
       "      <td>2.0000</td>\n",
       "      <td>3.0000</td>\n",
       "      <td>0.0000</td>\n",
       "      <td>0.0000</td>\n",
       "      <td>0.0000</td>\n",
       "      <td>0.0000</td>\n",
       "      <td>2.0000</td>\n",
       "      <td>0.0000</td>\n",
       "      <td>1.0000</td>\n",
       "      <td>1.0000</td>\n",
       "      <td>0.0000</td>\n",
       "      <td>1.0000</td>\n",
       "      <td>1.0000</td>\n",
       "      <td>41850.0000</td>\n",
       "    </tr>\n",
       "    <tr>\n",
       "      <th>75%</th>\n",
       "      <td>187.0000</td>\n",
       "      <td>3.0000</td>\n",
       "      <td>3.0000</td>\n",
       "      <td>4.0000</td>\n",
       "      <td>1.0000</td>\n",
       "      <td>1.0000</td>\n",
       "      <td>1.0000</td>\n",
       "      <td>1.0000</td>\n",
       "      <td>3.0000</td>\n",
       "      <td>1.0000</td>\n",
       "      <td>1.0000</td>\n",
       "      <td>1.0000</td>\n",
       "      <td>1.0000</td>\n",
       "      <td>1.0000</td>\n",
       "      <td>1.0000</td>\n",
       "      <td>50750.0000</td>\n",
       "    </tr>\n",
       "    <tr>\n",
       "      <th>max</th>\n",
       "      <td>249.0000</td>\n",
       "      <td>3.0000</td>\n",
       "      <td>4.0000</td>\n",
       "      <td>5.0000</td>\n",
       "      <td>1.0000</td>\n",
       "      <td>1.0000</td>\n",
       "      <td>1.0000</td>\n",
       "      <td>1.0000</td>\n",
       "      <td>3.0000</td>\n",
       "      <td>1.0000</td>\n",
       "      <td>1.0000</td>\n",
       "      <td>1.0000</td>\n",
       "      <td>1.0000</td>\n",
       "      <td>1.0000</td>\n",
       "      <td>1.0000</td>\n",
       "      <td>77975.0000</td>\n",
       "    </tr>\n",
       "  </tbody>\n",
       "</table>\n",
       "</div>"
      ],
      "text/plain": [
       "              Area       Garage    FirePlace        Baths  White Marble  \\\n",
       "count  500000.0000  500000.0000  500000.0000  500000.0000   500000.0000   \n",
       "mean      124.9296       2.0013       2.0034       2.9981        0.3330   \n",
       "std        71.7954       0.8170       1.4140       1.4142        0.4713   \n",
       "min         1.0000       1.0000       0.0000       1.0000        0.0000   \n",
       "25%        63.0000       1.0000       1.0000       2.0000        0.0000   \n",
       "50%       125.0000       2.0000       2.0000       3.0000        0.0000   \n",
       "75%       187.0000       3.0000       3.0000       4.0000        1.0000   \n",
       "max       249.0000       3.0000       4.0000       5.0000        1.0000   \n",
       "\n",
       "       Black Marble  Indian Marble       Floors         City        Solar  \\\n",
       "count   500000.0000    500000.0000  500000.0000  500000.0000  500000.0000   \n",
       "mean         0.3327         0.3343       0.4994       2.0009       0.4987   \n",
       "std          0.4712         0.4718       0.5000       0.8162       0.5000   \n",
       "min          0.0000         0.0000       0.0000       1.0000       0.0000   \n",
       "25%          0.0000         0.0000       0.0000       1.0000       0.0000   \n",
       "50%          0.0000         0.0000       0.0000       2.0000       0.0000   \n",
       "75%          1.0000         1.0000       1.0000       3.0000       1.0000   \n",
       "max          1.0000         1.0000       1.0000       3.0000       1.0000   \n",
       "\n",
       "          Electric        Fiber  Glass Doors  Swiming Pool       Garden  \\\n",
       "count  500000.0000  500000.0000  500000.0000   500000.0000  500000.0000   \n",
       "mean        0.5006       0.5005       0.4999        0.5004       0.5016   \n",
       "std         0.5000       0.5000       0.5000        0.5000       0.5000   \n",
       "min         0.0000       0.0000       0.0000        0.0000       0.0000   \n",
       "25%         0.0000       0.0000       0.0000        0.0000       0.0000   \n",
       "50%         1.0000       1.0000       0.0000        1.0000       1.0000   \n",
       "75%         1.0000       1.0000       1.0000        1.0000       1.0000   \n",
       "max         1.0000       1.0000       1.0000        1.0000       1.0000   \n",
       "\n",
       "            Prices  \n",
       "count  500000.0000  \n",
       "mean    42050.1394  \n",
       "std     12110.2372  \n",
       "min      7725.0000  \n",
       "25%     33500.0000  \n",
       "50%     41850.0000  \n",
       "75%     50750.0000  \n",
       "max     77975.0000  "
      ]
     },
     "execution_count": 164,
     "metadata": {},
     "output_type": "execute_result"
    }
   ],
   "source": [
    "dados.describe().round(4)"
   ]
  },
  {
   "cell_type": "markdown",
   "id": "67113682",
   "metadata": {},
   "source": [
    "## Vizualizando variável dependente do estudo (Prices)\n",
    "\n",
    "Utilizando como método de visualização o Box-Plot, conseguimos ver que existem alguns dados que podem ser considerados Outliers. Nesse caso iremos realizar um tratamento, em que utilizando o Interquartil Range(IQR) e os valores do 75º e 25º percentis, são encontrados os limites superior e inferior do Box-Plot para remover os outliers do nosso Dataset."
   ]
  },
  {
   "cell_type": "code",
   "execution_count": 165,
   "id": "62807e57",
   "metadata": {},
   "outputs": [],
   "source": [
    "import seaborn as sns"
   ]
  },
  {
   "cell_type": "code",
   "execution_count": 166,
   "id": "e797b865",
   "metadata": {},
   "outputs": [
    {
     "data": {
      "text/plain": [
       "<AxesSubplot:title={'center':'Variação dos Preços dos Imóveis'}, xlabel='Preços'>"
      ]
     },
     "execution_count": 166,
     "metadata": {},
     "output_type": "execute_result"
    },
    {
     "data": {
      "image/png": "[encoded data removed]",
      "text/plain": [
       "<Figure size 720x432 with 1 Axes>"
      ]
     },
     "metadata": {
      "needs_background": "light"
     },
     "output_type": "display_data"
    }
   ],
   "source": [
    "ax = sns.boxplot(data = dados['Prices'], width=0.2)\n",
    "ax.figure.set_size_inches(10, 6)\n",
    "ax.set_title('Variação dos Preços dos Imóveis', fontsize= 16)\n",
    "ax.set_xlabel('Preços', fontsize= 12)\n",
    "ax"
   ]
  },
  {
   "cell_type": "code",
   "execution_count": 167,
   "id": "e916da34",
   "metadata": {},
   "outputs": [
    {
     "name": "stdout",
     "output_type": "stream",
     "text": [
      " Q1:33500.0 Q3: 50750.0\n"
     ]
    }
   ],
   "source": [
    "# Obtendo os primeiro e terceiro quartis \n",
    "Q3 = dados['Prices'].quantile(0.75)\n",
    "Q1 = dados['Prices'].quantile(0.25)\n",
    "print(f' Q1:{Q1} Q3: {Q3}')"
   ]
  },
  {
   "cell_type": "code",
   "execution_count": 168,
   "id": "d13d073a",
   "metadata": {},
   "outputs": [
    {
     "name": "stdout",
     "output_type": "stream",
     "text": [
      " O limite inferior é $ 7625.0 e o superior $ 76625.0\n"
     ]
    }
   ],
   "source": [
    "# Calculando os limites superior e inferior do Boxplot\n",
    "IQR = Q3 - Q1\n",
    "superior =  Q3 + 1.5 * IQR\n",
    "inferior = Q1 - 1.5 * IQR\n",
    "print(f' O limite inferior é $ {inferior} e o superior $ {superior}')"
   ]
  },
  {
   "cell_type": "code",
   "execution_count": 169,
   "id": "6926380a",
   "metadata": {},
   "outputs": [],
   "source": [
    "dados_sem_outliers = dados.query(f'Prices > {inferior} and Prices < {superior}')"
   ]
  },
  {
   "cell_type": "code",
   "execution_count": 170,
   "id": "a8e4fbea",
   "metadata": {},
   "outputs": [
    {
     "data": {
      "text/plain": [
       "(499984, 16)"
      ]
     },
     "execution_count": 170,
     "metadata": {},
     "output_type": "execute_result"
    }
   ],
   "source": [
    "dados_sem_outliers.shape"
   ]
  },
  {
   "cell_type": "markdown",
   "id": "1a15b829",
   "metadata": {},
   "source": [
    "O dataset com Outliers possui **50000 registros** e após a remoção dos Outliers ficou com **499984 registros**."
   ]
  },
  {
   "cell_type": "markdown",
   "id": "0b8cc721",
   "metadata": {},
   "source": [
    "### Visualizando variável dependente (Prices) sem Outliers"
   ]
  },
  {
   "cell_type": "code",
   "execution_count": 171,
   "id": "53431c0b",
   "metadata": {},
   "outputs": [
    {
     "data": {
      "text/plain": [
       "<AxesSubplot:title={'center':'Variação dos Preços dos Imóveis'}, xlabel='Preços'>"
      ]
     },
     "execution_count": 171,
     "metadata": {},
     "output_type": "execute_result"
    },
    {
     "data": {
      "image/png": "[encoded data removed]",
      "text/plain": [
       "<Figure size 720x432 with 1 Axes>"
      ]
     },
     "metadata": {
      "needs_background": "light"
     },
     "output_type": "display_data"
    }
   ],
   "source": [
    "ax = sns.boxplot(data = dados_sem_outliers['Prices'], width=0.2, color= 'orange')\n",
    "ax.figure.set_size_inches(10, 6)\n",
    "ax.set_title('Variação dos Preços dos Imóveis', fontsize= 16)\n",
    "ax.set_xlabel('Preços', fontsize= 12)\n",
    "ax"
   ]
  },
  {
   "cell_type": "markdown",
   "id": "23a592ca",
   "metadata": {},
   "source": [
    "* A partir deste momento do notebook, será utilizado o **dataset sem Outliers** para as análises."
   ]
  },
  {
   "cell_type": "markdown",
   "id": "129e4b90",
   "metadata": {},
   "source": [
    "## Distribuição de Frequência da variável dependente\n",
    "\n",
    "Observando a distribuição de frequências, o dataset não aparenta ter uma **assimetria**."
   ]
  },
  {
   "cell_type": "code",
   "execution_count": 172,
   "id": "f0c33a16",
   "metadata": {},
   "outputs": [
    {
     "data": {
      "text/plain": [
       "<AxesSubplot:title={'center':'Distribuição de Frequências dos Preços dos Imóveis'}, xlabel='Preços', ylabel='Quantidade'>"
      ]
     },
     "execution_count": 172,
     "metadata": {},
     "output_type": "execute_result"
    },
    {
     "data": {
      "image/png": "[encoded data removed]",
      "text/plain": [
       "<Figure size 864x576 with 1 Axes>"
      ]
     },
     "metadata": {
      "needs_background": "light"
     },
     "output_type": "display_data"
    }
   ],
   "source": [
    "ax = sns.histplot(data = dados_sem_outliers['Prices'], kde=True)\n",
    "ax.figure.set_size_inches(12, 8)\n",
    "ax.set_title('Distribuição de Frequências dos Preços dos Imóveis', fontsize= 16)\n",
    "ax.set_xlabel('Preços', fontsize= 12)\n",
    "ax.set_ylabel('Quantidade', fontsize= 12)\n",
    "ax"
   ]
  },
  {
   "cell_type": "markdown",
   "id": "37f3b415",
   "metadata": {},
   "source": [
    "### Correlação entre as variáveis descritivas e a variável dependente (Prices)\n",
    "\n",
    "- Através da matrix de correlação, podemos observar que as variáveis que mais influenciam a variavel dependente(Prices) são: \n",
    "    * White Marble -> 0.4481\n",
    "    * Indian Marble -> -0.3697\n",
    "    * Floors -> 0.6195\n",
    "    * Fiber -> 0.4846\n",
    "    \n",
    "- Também vemos que as variáveis White Marble, Indian Marble e Black Marble possuem uma correlação maior entre elas. Logo tavez seja interessante não utilizar mais de uma dessas variáveis na criação de um modelo. "
   ]
  },
  {
   "cell_type": "code",
   "execution_count": 173,
   "id": "7bd9a4d8",
   "metadata": {},
   "outputs": [
    {
     "data": {
      "text/html": [
       "<div>\n",
       "<style scoped>\n",
       "    .dataframe tbody tr th:only-of-type {\n",
       "        vertical-align: middle;\n",
       "    }\n",
       "\n",
       "    .dataframe tbody tr th {\n",
       "        vertical-align: top;\n",
       "    }\n",
       "\n",
       "    .dataframe thead th {\n",
       "        text-align: right;\n",
       "    }\n",
       "</style>\n",
       "<table border=\"1\" class=\"dataframe\">\n",
       "  <thead>\n",
       "    <tr style=\"text-align: right;\">\n",
       "      <th></th>\n",
       "      <th>Area</th>\n",
       "      <th>Garage</th>\n",
       "      <th>FirePlace</th>\n",
       "      <th>Baths</th>\n",
       "      <th>White Marble</th>\n",
       "      <th>Black Marble</th>\n",
       "      <th>Indian Marble</th>\n",
       "      <th>Floors</th>\n",
       "      <th>City</th>\n",
       "      <th>Solar</th>\n",
       "      <th>Electric</th>\n",
       "      <th>Fiber</th>\n",
       "      <th>Glass Doors</th>\n",
       "      <th>Swiming Pool</th>\n",
       "      <th>Garden</th>\n",
       "      <th>Prices</th>\n",
       "    </tr>\n",
       "  </thead>\n",
       "  <tbody>\n",
       "    <tr>\n",
       "      <th>Area</th>\n",
       "      <td>1.0000</td>\n",
       "      <td>-0.0010</td>\n",
       "      <td>0.0003</td>\n",
       "      <td>-0.0005</td>\n",
       "      <td>0.0025</td>\n",
       "      <td>-0.0014</td>\n",
       "      <td>-0.0010</td>\n",
       "      <td>-0.0008</td>\n",
       "      <td>-0.0035</td>\n",
       "      <td>0.0005</td>\n",
       "      <td>-0.0002</td>\n",
       "      <td>0.0001</td>\n",
       "      <td>-0.0013</td>\n",
       "      <td>0.0006</td>\n",
       "      <td>0.0014</td>\n",
       "      <td>0.1476</td>\n",
       "    </tr>\n",
       "    <tr>\n",
       "      <th>Garage</th>\n",
       "      <td>-0.0010</td>\n",
       "      <td>1.0000</td>\n",
       "      <td>0.0013</td>\n",
       "      <td>-0.0037</td>\n",
       "      <td>0.0005</td>\n",
       "      <td>0.0019</td>\n",
       "      <td>-0.0024</td>\n",
       "      <td>-0.0010</td>\n",
       "      <td>0.0007</td>\n",
       "      <td>0.0015</td>\n",
       "      <td>0.0007</td>\n",
       "      <td>-0.0006</td>\n",
       "      <td>-0.0022</td>\n",
       "      <td>0.0011</td>\n",
       "      <td>-0.0007</td>\n",
       "      <td>0.1002</td>\n",
       "    </tr>\n",
       "    <tr>\n",
       "      <th>FirePlace</th>\n",
       "      <td>0.0003</td>\n",
       "      <td>0.0013</td>\n",
       "      <td>1.0000</td>\n",
       "      <td>0.0006</td>\n",
       "      <td>0.0009</td>\n",
       "      <td>-0.0009</td>\n",
       "      <td>-0.0000</td>\n",
       "      <td>0.0001</td>\n",
       "      <td>-0.0003</td>\n",
       "      <td>-0.0003</td>\n",
       "      <td>0.0013</td>\n",
       "      <td>0.0018</td>\n",
       "      <td>-0.0004</td>\n",
       "      <td>0.0013</td>\n",
       "      <td>0.0002</td>\n",
       "      <td>0.0890</td>\n",
       "    </tr>\n",
       "    <tr>\n",
       "      <th>Baths</th>\n",
       "      <td>-0.0005</td>\n",
       "      <td>-0.0037</td>\n",
       "      <td>0.0006</td>\n",
       "      <td>1.0000</td>\n",
       "      <td>0.0024</td>\n",
       "      <td>-0.0027</td>\n",
       "      <td>0.0003</td>\n",
       "      <td>-0.0009</td>\n",
       "      <td>-0.0009</td>\n",
       "      <td>-0.0008</td>\n",
       "      <td>0.0010</td>\n",
       "      <td>-0.0007</td>\n",
       "      <td>-0.0017</td>\n",
       "      <td>0.0022</td>\n",
       "      <td>0.0017</td>\n",
       "      <td>0.1450</td>\n",
       "    </tr>\n",
       "    <tr>\n",
       "      <th>White Marble</th>\n",
       "      <td>0.0025</td>\n",
       "      <td>0.0005</td>\n",
       "      <td>0.0009</td>\n",
       "      <td>0.0024</td>\n",
       "      <td>1.0000</td>\n",
       "      <td>-0.4989</td>\n",
       "      <td>-0.5007</td>\n",
       "      <td>0.0000</td>\n",
       "      <td>-0.0009</td>\n",
       "      <td>-0.0016</td>\n",
       "      <td>0.0005</td>\n",
       "      <td>-0.0006</td>\n",
       "      <td>-0.0004</td>\n",
       "      <td>-0.0019</td>\n",
       "      <td>0.0010</td>\n",
       "      <td>0.4481</td>\n",
       "    </tr>\n",
       "    <tr>\n",
       "      <th>Black Marble</th>\n",
       "      <td>-0.0014</td>\n",
       "      <td>0.0019</td>\n",
       "      <td>-0.0009</td>\n",
       "      <td>-0.0027</td>\n",
       "      <td>-0.4989</td>\n",
       "      <td>1.0000</td>\n",
       "      <td>-0.5004</td>\n",
       "      <td>-0.0003</td>\n",
       "      <td>-0.0003</td>\n",
       "      <td>0.0018</td>\n",
       "      <td>-0.0005</td>\n",
       "      <td>0.0001</td>\n",
       "      <td>0.0001</td>\n",
       "      <td>0.0007</td>\n",
       "      <td>0.0001</td>\n",
       "      <td>-0.0780</td>\n",
       "    </tr>\n",
       "    <tr>\n",
       "      <th>Indian Marble</th>\n",
       "      <td>-0.0010</td>\n",
       "      <td>-0.0024</td>\n",
       "      <td>-0.0000</td>\n",
       "      <td>0.0003</td>\n",
       "      <td>-0.5007</td>\n",
       "      <td>-0.5004</td>\n",
       "      <td>1.0000</td>\n",
       "      <td>0.0003</td>\n",
       "      <td>0.0012</td>\n",
       "      <td>-0.0002</td>\n",
       "      <td>0.0000</td>\n",
       "      <td>0.0005</td>\n",
       "      <td>0.0003</td>\n",
       "      <td>0.0012</td>\n",
       "      <td>-0.0011</td>\n",
       "      <td>-0.3697</td>\n",
       "    </tr>\n",
       "    <tr>\n",
       "      <th>Floors</th>\n",
       "      <td>-0.0008</td>\n",
       "      <td>-0.0010</td>\n",
       "      <td>0.0001</td>\n",
       "      <td>-0.0009</td>\n",
       "      <td>0.0000</td>\n",
       "      <td>-0.0003</td>\n",
       "      <td>0.0003</td>\n",
       "      <td>1.0000</td>\n",
       "      <td>-0.0007</td>\n",
       "      <td>-0.0027</td>\n",
       "      <td>0.0001</td>\n",
       "      <td>0.0013</td>\n",
       "      <td>-0.0000</td>\n",
       "      <td>-0.0002</td>\n",
       "      <td>-0.0005</td>\n",
       "      <td>0.6195</td>\n",
       "    </tr>\n",
       "    <tr>\n",
       "      <th>City</th>\n",
       "      <td>-0.0035</td>\n",
       "      <td>0.0007</td>\n",
       "      <td>-0.0003</td>\n",
       "      <td>-0.0009</td>\n",
       "      <td>-0.0009</td>\n",
       "      <td>-0.0003</td>\n",
       "      <td>0.0012</td>\n",
       "      <td>-0.0007</td>\n",
       "      <td>1.0000</td>\n",
       "      <td>0.0005</td>\n",
       "      <td>0.0008</td>\n",
       "      <td>-0.0028</td>\n",
       "      <td>0.0007</td>\n",
       "      <td>0.0003</td>\n",
       "      <td>0.0012</td>\n",
       "      <td>0.2332</td>\n",
       "    </tr>\n",
       "    <tr>\n",
       "      <th>Solar</th>\n",
       "      <td>0.0005</td>\n",
       "      <td>0.0015</td>\n",
       "      <td>-0.0003</td>\n",
       "      <td>-0.0008</td>\n",
       "      <td>-0.0016</td>\n",
       "      <td>0.0018</td>\n",
       "      <td>-0.0002</td>\n",
       "      <td>-0.0027</td>\n",
       "      <td>0.0005</td>\n",
       "      <td>1.0000</td>\n",
       "      <td>0.0019</td>\n",
       "      <td>0.0002</td>\n",
       "      <td>-0.0008</td>\n",
       "      <td>-0.0005</td>\n",
       "      <td>-0.0043</td>\n",
       "      <td>0.0084</td>\n",
       "    </tr>\n",
       "    <tr>\n",
       "      <th>Electric</th>\n",
       "      <td>-0.0002</td>\n",
       "      <td>0.0007</td>\n",
       "      <td>0.0013</td>\n",
       "      <td>0.0010</td>\n",
       "      <td>0.0005</td>\n",
       "      <td>-0.0005</td>\n",
       "      <td>0.0000</td>\n",
       "      <td>0.0001</td>\n",
       "      <td>0.0008</td>\n",
       "      <td>0.0019</td>\n",
       "      <td>1.0000</td>\n",
       "      <td>-0.0003</td>\n",
       "      <td>0.0011</td>\n",
       "      <td>0.0006</td>\n",
       "      <td>0.0008</td>\n",
       "      <td>0.0524</td>\n",
       "    </tr>\n",
       "    <tr>\n",
       "      <th>Fiber</th>\n",
       "      <td>0.0001</td>\n",
       "      <td>-0.0006</td>\n",
       "      <td>0.0018</td>\n",
       "      <td>-0.0007</td>\n",
       "      <td>-0.0006</td>\n",
       "      <td>0.0001</td>\n",
       "      <td>0.0005</td>\n",
       "      <td>0.0013</td>\n",
       "      <td>-0.0028</td>\n",
       "      <td>0.0002</td>\n",
       "      <td>-0.0003</td>\n",
       "      <td>1.0000</td>\n",
       "      <td>-0.0023</td>\n",
       "      <td>0.0041</td>\n",
       "      <td>-0.0000</td>\n",
       "      <td>0.4846</td>\n",
       "    </tr>\n",
       "    <tr>\n",
       "      <th>Glass Doors</th>\n",
       "      <td>-0.0013</td>\n",
       "      <td>-0.0022</td>\n",
       "      <td>-0.0004</td>\n",
       "      <td>-0.0017</td>\n",
       "      <td>-0.0004</td>\n",
       "      <td>0.0001</td>\n",
       "      <td>0.0003</td>\n",
       "      <td>-0.0000</td>\n",
       "      <td>0.0007</td>\n",
       "      <td>-0.0008</td>\n",
       "      <td>0.0011</td>\n",
       "      <td>-0.0023</td>\n",
       "      <td>1.0000</td>\n",
       "      <td>0.0004</td>\n",
       "      <td>0.0033</td>\n",
       "      <td>0.1819</td>\n",
       "    </tr>\n",
       "    <tr>\n",
       "      <th>Swiming Pool</th>\n",
       "      <td>0.0006</td>\n",
       "      <td>0.0011</td>\n",
       "      <td>0.0013</td>\n",
       "      <td>0.0022</td>\n",
       "      <td>-0.0019</td>\n",
       "      <td>0.0007</td>\n",
       "      <td>0.0012</td>\n",
       "      <td>-0.0002</td>\n",
       "      <td>0.0003</td>\n",
       "      <td>-0.0005</td>\n",
       "      <td>0.0006</td>\n",
       "      <td>0.0041</td>\n",
       "      <td>0.0004</td>\n",
       "      <td>1.0000</td>\n",
       "      <td>-0.0002</td>\n",
       "      <td>0.0018</td>\n",
       "    </tr>\n",
       "    <tr>\n",
       "      <th>Garden</th>\n",
       "      <td>0.0014</td>\n",
       "      <td>-0.0007</td>\n",
       "      <td>0.0002</td>\n",
       "      <td>0.0017</td>\n",
       "      <td>0.0010</td>\n",
       "      <td>0.0001</td>\n",
       "      <td>-0.0011</td>\n",
       "      <td>-0.0005</td>\n",
       "      <td>0.0012</td>\n",
       "      <td>-0.0043</td>\n",
       "      <td>0.0008</td>\n",
       "      <td>-0.0000</td>\n",
       "      <td>0.0033</td>\n",
       "      <td>-0.0002</td>\n",
       "      <td>1.0000</td>\n",
       "      <td>0.0015</td>\n",
       "    </tr>\n",
       "    <tr>\n",
       "      <th>Prices</th>\n",
       "      <td>0.1476</td>\n",
       "      <td>0.1002</td>\n",
       "      <td>0.0890</td>\n",
       "      <td>0.1450</td>\n",
       "      <td>0.4481</td>\n",
       "      <td>-0.0780</td>\n",
       "      <td>-0.3697</td>\n",
       "      <td>0.6195</td>\n",
       "      <td>0.2332</td>\n",
       "      <td>0.0084</td>\n",
       "      <td>0.0524</td>\n",
       "      <td>0.4846</td>\n",
       "      <td>0.1819</td>\n",
       "      <td>0.0018</td>\n",
       "      <td>0.0015</td>\n",
       "      <td>1.0000</td>\n",
       "    </tr>\n",
       "  </tbody>\n",
       "</table>\n",
       "</div>"
      ],
      "text/plain": [
       "                 Area  Garage  FirePlace   Baths  White Marble  Black Marble  \\\n",
       "Area           1.0000 -0.0010     0.0003 -0.0005        0.0025       -0.0014   \n",
       "Garage        -0.0010  1.0000     0.0013 -0.0037        0.0005        0.0019   \n",
       "FirePlace      0.0003  0.0013     1.0000  0.0006        0.0009       -0.0009   \n",
       "Baths         -0.0005 -0.0037     0.0006  1.0000        0.0024       -0.0027   \n",
       "White Marble   0.0025  0.0005     0.0009  0.0024        1.0000       -0.4989   \n",
       "Black Marble  -0.0014  0.0019    -0.0009 -0.0027       -0.4989        1.0000   \n",
       "Indian Marble -0.0010 -0.0024    -0.0000  0.0003       -0.5007       -0.5004   \n",
       "Floors        -0.0008 -0.0010     0.0001 -0.0009        0.0000       -0.0003   \n",
       "City          -0.0035  0.0007    -0.0003 -0.0009       -0.0009       -0.0003   \n",
       "Solar          0.0005  0.0015    -0.0003 -0.0008       -0.0016        0.0018   \n",
       "Electric      -0.0002  0.0007     0.0013  0.0010        0.0005       -0.0005   \n",
       "Fiber          0.0001 -0.0006     0.0018 -0.0007       -0.0006        0.0001   \n",
       "Glass Doors   -0.0013 -0.0022    -0.0004 -0.0017       -0.0004        0.0001   \n",
       "Swiming Pool   0.0006  0.0011     0.0013  0.0022       -0.0019        0.0007   \n",
       "Garden         0.0014 -0.0007     0.0002  0.0017        0.0010        0.0001   \n",
       "Prices         0.1476  0.1002     0.0890  0.1450        0.4481       -0.0780   \n",
       "\n",
       "               Indian Marble  Floors    City   Solar  Electric   Fiber  \\\n",
       "Area                 -0.0010 -0.0008 -0.0035  0.0005   -0.0002  0.0001   \n",
       "Garage               -0.0024 -0.0010  0.0007  0.0015    0.0007 -0.0006   \n",
       "FirePlace            -0.0000  0.0001 -0.0003 -0.0003    0.0013  0.0018   \n",
       "Baths                 0.0003 -0.0009 -0.0009 -0.0008    0.0010 -0.0007   \n",
       "White Marble         -0.5007  0.0000 -0.0009 -0.0016    0.0005 -0.0006   \n",
       "Black Marble         -0.5004 -0.0003 -0.0003  0.0018   -0.0005  0.0001   \n",
       "Indian Marble         1.0000  0.0003  0.0012 -0.0002    0.0000  0.0005   \n",
       "Floors                0.0003  1.0000 -0.0007 -0.0027    0.0001  0.0013   \n",
       "City                  0.0012 -0.0007  1.0000  0.0005    0.0008 -0.0028   \n",
       "Solar                -0.0002 -0.0027  0.0005  1.0000    0.0019  0.0002   \n",
       "Electric              0.0000  0.0001  0.0008  0.0019    1.0000 -0.0003   \n",
       "Fiber                 0.0005  0.0013 -0.0028  0.0002   -0.0003  1.0000   \n",
       "Glass Doors           0.0003 -0.0000  0.0007 -0.0008    0.0011 -0.0023   \n",
       "Swiming Pool          0.0012 -0.0002  0.0003 -0.0005    0.0006  0.0041   \n",
       "Garden               -0.0011 -0.0005  0.0012 -0.0043    0.0008 -0.0000   \n",
       "Prices               -0.3697  0.6195  0.2332  0.0084    0.0524  0.4846   \n",
       "\n",
       "               Glass Doors  Swiming Pool  Garden  Prices  \n",
       "Area               -0.0013        0.0006  0.0014  0.1476  \n",
       "Garage             -0.0022        0.0011 -0.0007  0.1002  \n",
       "FirePlace          -0.0004        0.0013  0.0002  0.0890  \n",
       "Baths              -0.0017        0.0022  0.0017  0.1450  \n",
       "White Marble       -0.0004       -0.0019  0.0010  0.4481  \n",
       "Black Marble        0.0001        0.0007  0.0001 -0.0780  \n",
       "Indian Marble       0.0003        0.0012 -0.0011 -0.3697  \n",
       "Floors             -0.0000       -0.0002 -0.0005  0.6195  \n",
       "City                0.0007        0.0003  0.0012  0.2332  \n",
       "Solar              -0.0008       -0.0005 -0.0043  0.0084  \n",
       "Electric            0.0011        0.0006  0.0008  0.0524  \n",
       "Fiber              -0.0023        0.0041 -0.0000  0.4846  \n",
       "Glass Doors         1.0000        0.0004  0.0033  0.1819  \n",
       "Swiming Pool        0.0004        1.0000 -0.0002  0.0018  \n",
       "Garden              0.0033       -0.0002  1.0000  0.0015  \n",
       "Prices              0.1819        0.0018  0.0015  1.0000  "
      ]
     },
     "execution_count": 173,
     "metadata": {},
     "output_type": "execute_result"
    }
   ],
   "source": [
    "dados_sem_outliers.corr().round(4)"
   ]
  },
  {
   "cell_type": "code",
   "execution_count": 174,
   "id": "33cb07cd",
   "metadata": {},
   "outputs": [
    {
     "data": {
      "text/plain": [
       "Area             0.1476\n",
       "Garage           0.1002\n",
       "FirePlace        0.0890\n",
       "Baths            0.1450\n",
       "White Marble     0.4481\n",
       "Black Marble    -0.0780\n",
       "Indian Marble   -0.3697\n",
       "Floors           0.6195\n",
       "City             0.2332\n",
       "Solar            0.0084\n",
       "Electric         0.0524\n",
       "Fiber            0.4846\n",
       "Glass Doors      0.1819\n",
       "Swiming Pool     0.0018\n",
       "Garden           0.0015\n",
       "Prices           1.0000\n",
       "Name: Prices, dtype: float64"
      ]
     },
     "execution_count": 174,
     "metadata": {},
     "output_type": "execute_result"
    }
   ],
   "source": [
    "# Vizualização somente da correlação entre Preços e as demais variavéis\n",
    "dados_sem_outliers.corr().round(4)['Prices']"
   ]
  },
  {
   "cell_type": "markdown",
   "id": "eb636837",
   "metadata": {},
   "source": [
    "### Visualização a disperção das variáveis explicativas em relação a variável dependente(Prices).\n",
    "\n",
    "- Podemos observar uma pequena tendência positiva nas variáveis: Area, White Marble, Black Marble, Floors, City, Fiber e Glass Door.\n",
    "\n",
    "- Existe uma pequena tendência de queda para a variável: Indian Marble."
   ]
  },
  {
   "cell_type": "code",
   "execution_count": 175,
   "id": "0fcf80cd",
   "metadata": {},
   "outputs": [
    {
     "data": {
      "text/plain": [
       "<seaborn.axisgrid.PairGrid at 0x1ba1e7f5100>"
      ]
     },
     "execution_count": 175,
     "metadata": {},
     "output_type": "execute_result"
    },
    {
     "data": {
      "image/png": "[encoded data removed]",
      "text/plain": [
       "<Figure size 1152x216 with 5 Axes>"
      ]
     },
     "metadata": {
      "needs_background": "light"
     },
     "output_type": "display_data"
    }
   ],
   "source": [
    "ax = sns.pairplot(x_vars = ['Area', 'Garage', 'FirePlace', 'Baths', 'White Marble'], y_vars = 'Prices',\n",
    "                  data = dados_sem_outliers)\n",
    "ax.figure.set_size_inches(16,3)\n",
    "ax.fig.suptitle('Dispersão entre as Variáveis', fontsize=20, y=1.1)\n",
    "ax"
   ]
  },
  {
   "cell_type": "code",
   "execution_count": 176,
   "id": "815f41bc",
   "metadata": {},
   "outputs": [
    {
     "data": {
      "text/plain": [
       "<seaborn.axisgrid.PairGrid at 0x1ba166cd8e0>"
      ]
     },
     "execution_count": 176,
     "metadata": {},
     "output_type": "execute_result"
    },
    {
     "data": {
      "image/png": "[encoded data removed]",
      "text/plain": [
       "<Figure size 1152x216 with 5 Axes>"
      ]
     },
     "metadata": {
      "needs_background": "light"
     },
     "output_type": "display_data"
    }
   ],
   "source": [
    "ax = sns.pairplot(x_vars = ['Black Marble', 'Indian Marble', 'Floors', 'City', 'Solar'], y_vars = 'Prices',\n",
    "                  data = dados_sem_outliers)\n",
    "ax.figure.set_size_inches(16,3)\n",
    "ax.fig.suptitle('Dispersão entre as Variáveis', fontsize=20, y=1.1)\n",
    "ax"
   ]
  },
  {
   "cell_type": "code",
   "execution_count": 177,
   "id": "cdf85a99",
   "metadata": {},
   "outputs": [
    {
     "data": {
      "text/plain": [
       "<seaborn.axisgrid.PairGrid at 0x1ba16f56a60>"
      ]
     },
     "execution_count": 177,
     "metadata": {},
     "output_type": "execute_result"
    },
    {
     "data": {
      "image/png": "[encoded data removed]",
      "text/plain": [
       "<Figure size 1152x216 with 5 Axes>"
      ]
     },
     "metadata": {
      "needs_background": "light"
     },
     "output_type": "display_data"
    }
   ],
   "source": [
    "ax = sns.pairplot(x_vars = ['Electric', 'Fiber', 'Glass Doors', 'Swiming Pool', 'Garden'], y_vars = 'Prices',\n",
    "                  data = dados_sem_outliers)\n",
    "ax.figure.set_size_inches(16,3)\n",
    "ax.fig.suptitle('Dispersão entre as Variáveis', fontsize=20, y=1.1)\n",
    "ax"
   ]
  },
  {
   "cell_type": "markdown",
   "id": "4f51b497",
   "metadata": {},
   "source": [
    "### Vizualizando comportamento das variáveis com maior correlação (matriz de correlação) com a variável Prices\n",
    "\n",
    "\n",
    "- Utilizando o método de vizualização Box-Plot, é possível observar as tendências que a matriz do correlação mostrou.\n",
    "    * Tendência positiva: White Marble, Floors e Fiber\n",
    "    * Tendência negativa: Indian Marble\n"
   ]
  },
  {
   "cell_type": "markdown",
   "id": "56231300",
   "metadata": {},
   "source": [
    "#### Prices x White Marble (0.4481)"
   ]
  },
  {
   "cell_type": "code",
   "execution_count": 178,
   "id": "eb985844",
   "metadata": {},
   "outputs": [
    {
     "data": {
      "text/plain": [
       "<AxesSubplot:title={'center':'Variação dos Preços dos Imóveis x Acabamento em Mármore branco'}, xlabel='Acabamento em mármore branco', ylabel='Preços'>"
      ]
     },
     "execution_count": 178,
     "metadata": {},
     "output_type": "execute_result"
    },
    {
     "data": {
      "image/png": "[encoded data removed]",
      "text/plain": [
       "<Figure size 864x576 with 1 Axes>"
      ]
     },
     "metadata": {
      "needs_background": "light"
     },
     "output_type": "display_data"
    }
   ],
   "source": [
    "ax = sns.boxplot(x = \"White Marble\",y = \"Prices\", data = dados_sem_outliers, palette='pastel')\n",
    "ax.figure.set_size_inches(12, 8)\n",
    "\n",
    "ax.set_title('Variação dos Preços dos Imóveis x Acabamento em Mármore branco', fontsize= 16)\n",
    "ax.set_ylabel('Preços', fontsize= 12)\n",
    "ax.set_xlabel('Acabamento em mármore branco', fontsize= 12)\n",
    "ax"
   ]
  },
  {
   "cell_type": "markdown",
   "id": "b40def76",
   "metadata": {},
   "source": [
    "#### Prices x Indian Marble(-0.3697)"
   ]
  },
  {
   "cell_type": "code",
   "execution_count": 179,
   "id": "26fb7ad8",
   "metadata": {},
   "outputs": [
    {
     "data": {
      "text/plain": [
       "<AxesSubplot:title={'center':'Variação dos Preços dos Imóveis x Acabamento em Mármore indiano'}, xlabel='Acabamento em mármore indiano', ylabel='Preços'>"
      ]
     },
     "execution_count": 179,
     "metadata": {},
     "output_type": "execute_result"
    },
    {
     "data": {
      "image/png": "[encoded data removed]",
      "text/plain": [
       "<Figure size 864x576 with 1 Axes>"
      ]
     },
     "metadata": {
      "needs_background": "light"
     },
     "output_type": "display_data"
    }
   ],
   "source": [
    "ax = sns.boxplot(x = \"Indian Marble\",y = \"Prices\", data = dados_sem_outliers, palette='pastel')\n",
    "ax.figure.set_size_inches(12, 8)\n",
    "\n",
    "ax.set_title('Variação dos Preços dos Imóveis x Acabamento em Mármore indiano', fontsize= 16)\n",
    "ax.set_ylabel('Preços', fontsize= 12)\n",
    "ax.set_xlabel('Acabamento em mármore indiano', fontsize= 12)\n",
    "ax"
   ]
  },
  {
   "cell_type": "markdown",
   "id": "a9c2d339",
   "metadata": {},
   "source": [
    "#### Prices x Floors (0.6195)"
   ]
  },
  {
   "cell_type": "code",
   "execution_count": 180,
   "id": "712b2eb1",
   "metadata": {},
   "outputs": [
    {
     "data": {
      "text/plain": [
       "<AxesSubplot:title={'center':'Variação dos Preços dos Imóveis x Andares'}, xlabel='Andares', ylabel='Preços'>"
      ]
     },
     "execution_count": 180,
     "metadata": {},
     "output_type": "execute_result"
    },
    {
     "data": {
      "image/png": "[encoded data removed]",
      "text/plain": [
       "<Figure size 864x576 with 1 Axes>"
      ]
     },
     "metadata": {
      "needs_background": "light"
     },
     "output_type": "display_data"
    }
   ],
   "source": [
    "ax = sns.boxplot(y = \"Prices\", x = 'Floors', data = dados_sem_outliers, palette='pastel')\n",
    "ax.figure.set_size_inches(12, 8)\n",
    "\n",
    "ax.set_title('Variação dos Preços dos Imóveis x Andares', fontsize= 16)\n",
    "ax.set_ylabel('Preços', fontsize= 12)\n",
    "ax.set_xlabel('Andares', fontsize= 12)\n",
    "\n",
    "\n",
    "ax\n"
   ]
  },
  {
   "cell_type": "markdown",
   "id": "68ff93d5",
   "metadata": {},
   "source": [
    "#### Prices x Fiber (0.4846)"
   ]
  },
  {
   "cell_type": "code",
   "execution_count": 181,
   "id": "8bef77c2",
   "metadata": {},
   "outputs": [
    {
     "data": {
      "text/plain": [
       "<AxesSubplot:title={'center':'Variação dos Preços dos Imóveis x Suporte para Fibra'}, xlabel='Suporte para fibra', ylabel='Preços'>"
      ]
     },
     "execution_count": 181,
     "metadata": {},
     "output_type": "execute_result"
    },
    {
     "data": {
      "image/png": "[encoded data removed]",
      "text/plain": [
       "<Figure size 864x576 with 1 Axes>"
      ]
     },
     "metadata": {
      "needs_background": "light"
     },
     "output_type": "display_data"
    }
   ],
   "source": [
    "ax = sns.boxplot(x = \"Fiber\",y = \"Prices\", data = dados_sem_outliers, palette='pastel')\n",
    "ax.figure.set_size_inches(12, 8)\n",
    "\n",
    "ax.set_title('Variação dos Preços dos Imóveis x Suporte para Fibra', fontsize= 16)\n",
    "ax.set_ylabel('Preços', fontsize= 12)\n",
    "ax.set_xlabel('Suporte para fibra', fontsize= 12)\n",
    "ax"
   ]
  },
  {
   "cell_type": "markdown",
   "id": "3d2ca450",
   "metadata": {},
   "source": [
    "# Criação do Modelo"
   ]
  },
  {
   "cell_type": "markdown",
   "id": "519db07f",
   "metadata": {},
   "source": [
    "## Importando bibliotecas para auxiliar a criação dos modelos"
   ]
  },
  {
   "cell_type": "code",
   "execution_count": 182,
   "id": "a71c3d41",
   "metadata": {},
   "outputs": [],
   "source": [
    "from sklearn.model_selection import train_test_split\n",
    "from sklearn.linear_model import LinearRegression"
   ]
  },
  {
   "cell_type": "markdown",
   "id": "18ff9cd0",
   "metadata": {},
   "source": [
    "## Importando bibliotecas para auxiliar a comparação dos modelos"
   ]
  },
  {
   "cell_type": "code",
   "execution_count": 183,
   "id": "f0745377",
   "metadata": {},
   "outputs": [],
   "source": [
    "from sklearn.metrics import r2_score\n",
    "from sklearn.metrics import mean_squared_error"
   ]
  },
  {
   "cell_type": "markdown",
   "id": "2ed5c992",
   "metadata": {},
   "source": [
    "## Modelo utilizando as variáveis de maior correlação: White Marble, Indian Marble, Floors, Fiber \n",
    "\n",
    "- O modelo 1 apresentou R² = 0.847.\n",
    "- Esse modelo apesar de simples já apresenta um coeficiente de determinação interessante."
   ]
  },
  {
   "cell_type": "markdown",
   "id": "263acf64",
   "metadata": {},
   "source": [
    "### Separando variáveis que serão utilizadas (X eY)"
   ]
  },
  {
   "cell_type": "code",
   "execution_count": 184,
   "id": "4ac41d1c",
   "metadata": {},
   "outputs": [
    {
     "name": "stdout",
     "output_type": "stream",
     "text": [
      "<class 'pandas.core.frame.DataFrame'> e <class 'pandas.core.series.Series'>\n"
     ]
    }
   ],
   "source": [
    "# DataFrame com as variáveis explicativas: 'White Marble', 'Indian Marble', 'Floors', 'Fiber'\n",
    "X1 = dados_sem_outliers[['White Marble', 'Indian Marble', 'Floors', 'Fiber']]\n",
    "# Variável dependente: Prices \n",
    "Y1 = dados_sem_outliers['Prices']\n",
    "print(f'{type(X1)} e {type(Y1)}')"
   ]
  },
  {
   "cell_type": "markdown",
   "id": "a53837f0",
   "metadata": {},
   "source": [
    "### Separando dados de treino e teste para o primeiro modelo\n",
    "\n",
    "- A amostra de teste foi criada com 30% dos dados.\n",
    "- Foi utilizado random_state = 2512, para facilitar a comparação dos modelos."
   ]
  },
  {
   "cell_type": "code",
   "execution_count": 185,
   "id": "d9eb52a7",
   "metadata": {},
   "outputs": [],
   "source": [
    "X1_train, X1_test, y1_train, y1_test = train_test_split(X1, Y1, test_size=0.3, random_state=2512)"
   ]
  },
  {
   "cell_type": "code",
   "execution_count": 186,
   "id": "20f592c2",
   "metadata": {},
   "outputs": [],
   "source": [
    "# Gerando modelo\n",
    "modelo1 = LinearRegression()"
   ]
  },
  {
   "cell_type": "code",
   "execution_count": 187,
   "id": "cd55aa6d",
   "metadata": {
    "scrolled": true
   },
   "outputs": [
    {
     "data": {
      "text/plain": [
       "LinearRegression()"
      ]
     },
     "execution_count": 187,
     "metadata": {},
     "output_type": "execute_result"
    }
   ],
   "source": [
    "# Ajustando modelo com os dados de treino\n",
    "modelo1.fit(X1_train,y1_train)"
   ]
  },
  {
   "cell_type": "code",
   "execution_count": 188,
   "id": "e2b7f5bd",
   "metadata": {},
   "outputs": [
    {
     "name": "stdout",
     "output_type": "stream",
     "text": [
      "O modelo apresenta Coeficiente de Determinação(R²): 0.847\n"
     ]
    }
   ],
   "source": [
    "modelo1.score(X1_train,y1_train)\n",
    "print(f\"O modelo apresenta Coeficiente de Determinação(R²): {modelo1.score(X1_train,y1_train).round(3)}\")"
   ]
  },
  {
   "cell_type": "markdown",
   "id": "64d76aa0",
   "metadata": {},
   "source": [
    "### Prevendo o preço do imóvel e calculando R² para o Modelo1"
   ]
  },
  {
   "cell_type": "code",
   "execution_count": 189,
   "id": "cb161a80",
   "metadata": {},
   "outputs": [],
   "source": [
    "y1_previsto = modelo1.predict(X1_test)"
   ]
  },
  {
   "cell_type": "code",
   "execution_count": 190,
   "id": "97efe4b9",
   "metadata": {},
   "outputs": [
    {
     "name": "stdout",
     "output_type": "stream",
     "text": [
      "O modelo apresenta Coeficiente de Determinação(R²): 0.847, para os dados de teste.\n"
     ]
    }
   ],
   "source": [
    "r2_score(y1_test, y1_previsto)\n",
    "print(f\"O modelo apresenta Coeficiente de Determinação(R²): {r2_score(y1_test, y1_previsto).round(3)},\\\n",
    " para os dados de teste.\")"
   ]
  },
  {
   "cell_type": "markdown",
   "id": "63d55499",
   "metadata": {},
   "source": [
    "## Modelo utilizando as variáveis: Area, White Marble, Black Marble, Floors, City, Fiber e Glass Door\n",
    "\n",
    "- Variáveis que possuem alguma tendência positiva segundo os graficos de disperção.\n",
    "- O modelo 2 apresenta R² = 0958.\n",
    "- Ao utilizar as variáveis que possuem tendência positiva (Encontradas nos gráficos de disperção) o modelo apresentou um aumento consideravel no coeficiente de determinação.  "
   ]
  },
  {
   "cell_type": "markdown",
   "id": "1d099c3b",
   "metadata": {},
   "source": [
    "### Separando variáveis que serão utilizadas (X e Y)"
   ]
  },
  {
   "cell_type": "code",
   "execution_count": 191,
   "id": "dcc2006a",
   "metadata": {},
   "outputs": [
    {
     "name": "stdout",
     "output_type": "stream",
     "text": [
      "<class 'pandas.core.frame.DataFrame'> e <class 'pandas.core.series.Series'>\n"
     ]
    }
   ],
   "source": [
    "# DataFrame com as variáveis explicativas: 'Area', 'White Marble', 'Black Marble', 'Floors', 'City', 'Fiber', 'Glass Doors'\n",
    "X2 = dados_sem_outliers[['Area', 'White Marble', 'Black Marble', 'Floors', 'City', 'Fiber', 'Glass Doors']]\n",
    "# Variável dependente: Prices \n",
    "Y2 = dados_sem_outliers['Prices']\n",
    "print(f'{type(X2)} e {type(Y2)}')"
   ]
  },
  {
   "cell_type": "markdown",
   "id": "941e004d",
   "metadata": {},
   "source": [
    "### Separando dados de treino e teste para o segundo modelo\n",
    "\n",
    "- A amostra de teste foi criada com 30% dos dados.\n",
    "- Foi utilizado random_state = 2512, para facilitar a comparação dos modelos."
   ]
  },
  {
   "cell_type": "code",
   "execution_count": 192,
   "id": "1afdd802",
   "metadata": {},
   "outputs": [],
   "source": [
    "X2_train, X2_test, y2_train, y2_test = train_test_split(X2, Y2, test_size=0.3, random_state=2512)"
   ]
  },
  {
   "cell_type": "code",
   "execution_count": 193,
   "id": "f900baad",
   "metadata": {},
   "outputs": [],
   "source": [
    "# Gerando modelo\n",
    "modelo2 = LinearRegression()"
   ]
  },
  {
   "cell_type": "code",
   "execution_count": 194,
   "id": "6e29c46f",
   "metadata": {},
   "outputs": [
    {
     "data": {
      "text/plain": [
       "LinearRegression()"
      ]
     },
     "execution_count": 194,
     "metadata": {},
     "output_type": "execute_result"
    }
   ],
   "source": [
    "# Ajustando modelo com os dados de treino\n",
    "modelo2.fit(X2_train,y2_train)"
   ]
  },
  {
   "cell_type": "code",
   "execution_count": 195,
   "id": "314e261a",
   "metadata": {},
   "outputs": [
    {
     "name": "stdout",
     "output_type": "stream",
     "text": [
      "O modelo apresenta Coeficiente de Determinação(R²): 0.958\n"
     ]
    }
   ],
   "source": [
    "modelo2.score(X2_train,y2_train)\n",
    "print(f\"O modelo apresenta Coeficiente de Determinação(R²): {modelo2.score(X2_train,y2_train).round(3)}\")"
   ]
  },
  {
   "cell_type": "markdown",
   "id": "93406aa1",
   "metadata": {},
   "source": [
    "### Prevendo o preço do imóvel e calculando R² para o Modelo2"
   ]
  },
  {
   "cell_type": "code",
   "execution_count": 196,
   "id": "881eafa0",
   "metadata": {},
   "outputs": [],
   "source": [
    "y2_previsto = modelo2.predict(X2_test)"
   ]
  },
  {
   "cell_type": "code",
   "execution_count": 197,
   "id": "1af38644",
   "metadata": {},
   "outputs": [
    {
     "name": "stdout",
     "output_type": "stream",
     "text": [
      "O modelo apresenta Coeficiente de Determinação(R²): 0.958, para os dados de teste.\n"
     ]
    }
   ],
   "source": [
    "r2_score(y2_test, y2_previsto)\n",
    "print(f\"O modelo apresenta Coeficiente de Determinação(R²): {r2_score(y2_test, y2_previsto).round(3)},\\\n",
    " para os dados de teste.\")"
   ]
  },
  {
   "cell_type": "markdown",
   "id": "249ed632",
   "metadata": {},
   "source": [
    "## Modelo utilizando todas as variáveis\n",
    "\n",
    "- Ao utilizar todas as variáveis o modelo 3 atingiu o R² = 1.0"
   ]
  },
  {
   "cell_type": "markdown",
   "id": "e80d4f5f",
   "metadata": {},
   "source": [
    "### Separando variáveis que serão utilizadas (X eY)"
   ]
  },
  {
   "cell_type": "code",
   "execution_count": 198,
   "id": "0d0b7d4c",
   "metadata": {},
   "outputs": [
    {
     "name": "stdout",
     "output_type": "stream",
     "text": [
      "<class 'pandas.core.frame.DataFrame'> e <class 'pandas.core.series.Series'>\n"
     ]
    }
   ],
   "source": [
    "# DataFrame com todas as variáveis explicativas\n",
    "X3 = dados_sem_outliers[[  'Area', 'Garage', 'FirePlace', 'Baths', 'White Marble', 'Black Marble',\n",
    "                           'Indian Marble', 'Floors', 'City', 'Solar', 'Electric', 'Fiber',\n",
    "                           'Glass Doors', 'Swiming Pool', 'Garden']]\n",
    "# Variável dependente: Prices \n",
    "Y3 = dados_sem_outliers['Prices']\n",
    "print(f'{type(X3)} e {type(Y3)}')"
   ]
  },
  {
   "cell_type": "code",
   "execution_count": 199,
   "id": "53334c2b",
   "metadata": {},
   "outputs": [
    {
     "data": {
      "text/html": [
       "<div>\n",
       "<style scoped>\n",
       "    .dataframe tbody tr th:only-of-type {\n",
       "        vertical-align: middle;\n",
       "    }\n",
       "\n",
       "    .dataframe tbody tr th {\n",
       "        vertical-align: top;\n",
       "    }\n",
       "\n",
       "    .dataframe thead th {\n",
       "        text-align: right;\n",
       "    }\n",
       "</style>\n",
       "<table border=\"1\" class=\"dataframe\">\n",
       "  <thead>\n",
       "    <tr style=\"text-align: right;\">\n",
       "      <th></th>\n",
       "      <th>Area</th>\n",
       "      <th>Garage</th>\n",
       "      <th>FirePlace</th>\n",
       "      <th>Baths</th>\n",
       "      <th>White Marble</th>\n",
       "      <th>Black Marble</th>\n",
       "      <th>Indian Marble</th>\n",
       "      <th>Floors</th>\n",
       "      <th>City</th>\n",
       "      <th>Solar</th>\n",
       "      <th>Electric</th>\n",
       "      <th>Fiber</th>\n",
       "      <th>Glass Doors</th>\n",
       "      <th>Swiming Pool</th>\n",
       "      <th>Garden</th>\n",
       "    </tr>\n",
       "  </thead>\n",
       "  <tbody>\n",
       "    <tr>\n",
       "      <th>0</th>\n",
       "      <td>164</td>\n",
       "      <td>2</td>\n",
       "      <td>0</td>\n",
       "      <td>2</td>\n",
       "      <td>0</td>\n",
       "      <td>1</td>\n",
       "      <td>0</td>\n",
       "      <td>0</td>\n",
       "      <td>3</td>\n",
       "      <td>1</td>\n",
       "      <td>1</td>\n",
       "      <td>1</td>\n",
       "      <td>1</td>\n",
       "      <td>0</td>\n",
       "      <td>0</td>\n",
       "    </tr>\n",
       "    <tr>\n",
       "      <th>1</th>\n",
       "      <td>84</td>\n",
       "      <td>2</td>\n",
       "      <td>0</td>\n",
       "      <td>4</td>\n",
       "      <td>0</td>\n",
       "      <td>0</td>\n",
       "      <td>1</td>\n",
       "      <td>1</td>\n",
       "      <td>2</td>\n",
       "      <td>0</td>\n",
       "      <td>0</td>\n",
       "      <td>0</td>\n",
       "      <td>1</td>\n",
       "      <td>1</td>\n",
       "      <td>1</td>\n",
       "    </tr>\n",
       "    <tr>\n",
       "      <th>2</th>\n",
       "      <td>190</td>\n",
       "      <td>2</td>\n",
       "      <td>4</td>\n",
       "      <td>4</td>\n",
       "      <td>1</td>\n",
       "      <td>0</td>\n",
       "      <td>0</td>\n",
       "      <td>0</td>\n",
       "      <td>2</td>\n",
       "      <td>0</td>\n",
       "      <td>0</td>\n",
       "      <td>1</td>\n",
       "      <td>0</td>\n",
       "      <td>0</td>\n",
       "      <td>0</td>\n",
       "    </tr>\n",
       "    <tr>\n",
       "      <th>3</th>\n",
       "      <td>75</td>\n",
       "      <td>2</td>\n",
       "      <td>4</td>\n",
       "      <td>4</td>\n",
       "      <td>0</td>\n",
       "      <td>0</td>\n",
       "      <td>1</td>\n",
       "      <td>1</td>\n",
       "      <td>1</td>\n",
       "      <td>1</td>\n",
       "      <td>1</td>\n",
       "      <td>1</td>\n",
       "      <td>1</td>\n",
       "      <td>1</td>\n",
       "      <td>1</td>\n",
       "    </tr>\n",
       "    <tr>\n",
       "      <th>4</th>\n",
       "      <td>148</td>\n",
       "      <td>1</td>\n",
       "      <td>4</td>\n",
       "      <td>2</td>\n",
       "      <td>1</td>\n",
       "      <td>0</td>\n",
       "      <td>0</td>\n",
       "      <td>1</td>\n",
       "      <td>2</td>\n",
       "      <td>1</td>\n",
       "      <td>0</td>\n",
       "      <td>0</td>\n",
       "      <td>1</td>\n",
       "      <td>1</td>\n",
       "      <td>1</td>\n",
       "    </tr>\n",
       "  </tbody>\n",
       "</table>\n",
       "</div>"
      ],
      "text/plain": [
       "   Area  Garage  FirePlace  Baths  White Marble  Black Marble  Indian Marble  \\\n",
       "0   164       2          0      2             0             1              0   \n",
       "1    84       2          0      4             0             0              1   \n",
       "2   190       2          4      4             1             0              0   \n",
       "3    75       2          4      4             0             0              1   \n",
       "4   148       1          4      2             1             0              0   \n",
       "\n",
       "   Floors  City  Solar  Electric  Fiber  Glass Doors  Swiming Pool  Garden  \n",
       "0       0     3      1         1      1            1             0       0  \n",
       "1       1     2      0         0      0            1             1       1  \n",
       "2       0     2      0         0      1            0             0       0  \n",
       "3       1     1      1         1      1            1             1       1  \n",
       "4       1     2      1         0      0            1             1       1  "
      ]
     },
     "execution_count": 199,
     "metadata": {},
     "output_type": "execute_result"
    }
   ],
   "source": [
    "X3.head()"
   ]
  },
  {
   "cell_type": "markdown",
   "id": "7195b07d",
   "metadata": {},
   "source": [
    "### Separando dados de treino e teste para o terceiro modelo\n",
    "\n",
    "- A amostra de teste foi criada com 30% dos dados.\n",
    "- Foi utilizado random_state = 2512, para facilitar a comparação dos modelos."
   ]
  },
  {
   "cell_type": "code",
   "execution_count": 200,
   "id": "9a5afdcd",
   "metadata": {},
   "outputs": [],
   "source": [
    "X3_train, X3_test, y3_train, y3_test = train_test_split(X3, Y3, test_size=0.3, random_state=2512)"
   ]
  },
  {
   "cell_type": "code",
   "execution_count": 201,
   "id": "8bf0911d",
   "metadata": {},
   "outputs": [],
   "source": [
    "# Gerando modelo\n",
    "modelo3 = LinearRegression()"
   ]
  },
  {
   "cell_type": "code",
   "execution_count": 202,
   "id": "35973af4",
   "metadata": {},
   "outputs": [
    {
     "data": {
      "text/plain": [
       "LinearRegression()"
      ]
     },
     "execution_count": 202,
     "metadata": {},
     "output_type": "execute_result"
    }
   ],
   "source": [
    "# Ajustando modelo com os dados de treino\n",
    "modelo3.fit(X3_train, y3_train)"
   ]
  },
  {
   "cell_type": "code",
   "execution_count": 203,
   "id": "3cdbda21",
   "metadata": {
    "scrolled": true
   },
   "outputs": [
    {
     "name": "stdout",
     "output_type": "stream",
     "text": [
      "O modelo apresenta Coeficiente de Determinação(R²): 1.0\n"
     ]
    }
   ],
   "source": [
    "modelo3.score(X3_train,y3_train)\n",
    "print(f\"O modelo apresenta Coeficiente de Determinação(R²): {modelo3.score(X3_train,y3_train).round(3)}\")"
   ]
  },
  {
   "cell_type": "markdown",
   "id": "41d6c3f5",
   "metadata": {},
   "source": [
    "### Prevendo o preço do imóvel e calculando R² para o Modelo2"
   ]
  },
  {
   "cell_type": "code",
   "execution_count": 204,
   "id": "007f2612",
   "metadata": {},
   "outputs": [],
   "source": [
    "y3_previsto = modelo3.predict(X3_test)"
   ]
  },
  {
   "cell_type": "code",
   "execution_count": 205,
   "id": "cfcb6a56",
   "metadata": {},
   "outputs": [
    {
     "name": "stdout",
     "output_type": "stream",
     "text": [
      "O modelo apresenta Coeficiente de Determinação(R²): 1.0, para os dados de teste.\n"
     ]
    }
   ],
   "source": [
    "r2_score(y2_test, y2_previsto)\n",
    "print(f\"O modelo apresenta Coeficiente de Determinação(R²): {r2_score(y3_test, y3_previsto).round(3)},\\\n",
    " para os dados de teste.\")"
   ]
  },
  {
   "cell_type": "markdown",
   "id": "3c260a91",
   "metadata": {},
   "source": [
    "# Comparação de modelos\n",
    "\n",
    "- Utilizando algumas métricas para comparação, pode-se observar que o melhor dos modelos foi o terceiro (Utiliza todas as variáveis).\n",
    "- No terceiro modelo foi possível obter um R² = 1 e minimizar o EQM para 0."
   ]
  },
  {
   "cell_type": "code",
   "execution_count": 206,
   "id": "e256f4fb",
   "metadata": {},
   "outputs": [
    {
     "name": "stdout",
     "output_type": "stream",
     "text": [
      "As métricas de regressão para o modelo 1 \n",
      "\n",
      "\t EQM: 22405092.58\n",
      "\t REQM: 4733.402\n",
      "\t R²: 0.847\n"
     ]
    }
   ],
   "source": [
    "# Obtendo as métricas para o primeiro modelo\n",
    "EQM1 = mean_squared_error(y1_test, y1_previsto).round(2)\n",
    "REQM1 = np.sqrt(mean_squared_error(y1_test, y1_previsto)).round(3)\n",
    "R2_1 = r2_score(y1_test,y1_previsto).round(3)\n",
    "\n",
    "\n",
    "print(\"As métricas de regressão para o modelo 1 \\n\")\n",
    "print(f'\\t EQM: {EQM1}')\n",
    "print(f'\\t REQM: {REQM1}')\n",
    "print(f'\\t R²: {R2_1}')\n"
   ]
  },
  {
   "cell_type": "code",
   "execution_count": 207,
   "id": "8d5cb7d8",
   "metadata": {},
   "outputs": [
    {
     "name": "stdout",
     "output_type": "stream",
     "text": [
      "As métricas de regressão para o modelo 2 \n",
      "\n",
      "\t EQM: 6147096.61\n",
      "\t REQM: 2479.334\n",
      "\t R²: 0.958\n"
     ]
    }
   ],
   "source": [
    "# Obtendo as métricas para o segundo modelo\n",
    "EQM2 = mean_squared_error(y2_test, y2_previsto).round(2)\n",
    "REQM2 = np.sqrt(mean_squared_error(y2_test, y2_previsto)).round(3)\n",
    "R2_2 = r2_score(y2_test,y2_previsto).round(3)\n",
    "\n",
    "\n",
    "print(\"As métricas de regressão para o modelo 2 \\n\")\n",
    "print(f'\\t EQM: {EQM2}')\n",
    "print(f'\\t REQM: {REQM2}')\n",
    "print(f'\\t R²: {R2_2}')"
   ]
  },
  {
   "cell_type": "code",
   "execution_count": 208,
   "id": "15dd0b32",
   "metadata": {},
   "outputs": [
    {
     "name": "stdout",
     "output_type": "stream",
     "text": [
      "As métricas de regressão para o modelo 3 \n",
      "\n",
      "\t EQM: 0.0\n",
      "\t REQM: 0.0\n",
      "\t R²: 1.0\n"
     ]
    }
   ],
   "source": [
    "# Obtendo as métricas para o terceiro modelo\n",
    "EQM3 = mean_squared_error(y3_test, y3_previsto).round(2)\n",
    "REQM3 = np.sqrt(mean_squared_error(y3_test, y3_previsto)).round(3)\n",
    "R2_3 = r2_score(y3_test,y3_previsto).round(3)\n",
    "\n",
    "\n",
    "print(\"As métricas de regressão para o modelo 3 \\n\")\n",
    "print(f'\\t EQM: {EQM3}')\n",
    "print(f'\\t REQM: {REQM3}')\n",
    "print(f'\\t R²: {R2_3}')"
   ]
  },
  {
   "cell_type": "markdown",
   "id": "c959e442",
   "metadata": {},
   "source": [
    "# Criando um simulador para o melhor modelo"
   ]
  },
  {
   "cell_type": "code",
   "execution_count": 209,
   "id": "fd830e21",
   "metadata": {},
   "outputs": [
    {
     "data": {
      "text/plain": [
       "Index(['Area', 'Garage', 'FirePlace', 'Baths', 'White Marble', 'Black Marble',\n",
       "       'Indian Marble', 'Floors', 'City', 'Solar', 'Electric', 'Fiber',\n",
       "       'Glass Doors', 'Swiming Pool', 'Garden', 'Prices'],\n",
       "      dtype='object')"
      ]
     },
     "execution_count": 209,
     "metadata": {},
     "output_type": "execute_result"
    }
   ],
   "source": [
    "dados_sem_outliers.columns"
   ]
  },
  {
   "cell_type": "code",
   "execution_count": 210,
   "id": "bd424ff0",
   "metadata": {},
   "outputs": [
    {
     "data": {
      "text/html": [
       "<div>\n",
       "<style scoped>\n",
       "    .dataframe tbody tr th:only-of-type {\n",
       "        vertical-align: middle;\n",
       "    }\n",
       "\n",
       "    .dataframe tbody tr th {\n",
       "        vertical-align: top;\n",
       "    }\n",
       "\n",
       "    .dataframe thead th {\n",
       "        text-align: right;\n",
       "    }\n",
       "</style>\n",
       "<table border=\"1\" class=\"dataframe\">\n",
       "  <thead>\n",
       "    <tr style=\"text-align: right;\">\n",
       "      <th></th>\n",
       "      <th>Area</th>\n",
       "      <th>Garage</th>\n",
       "      <th>FirePlace</th>\n",
       "      <th>Baths</th>\n",
       "      <th>White Marble</th>\n",
       "      <th>Black Marble</th>\n",
       "      <th>Indian Marble</th>\n",
       "      <th>Floors</th>\n",
       "      <th>City</th>\n",
       "      <th>Solar</th>\n",
       "      <th>Electric</th>\n",
       "      <th>Fiber</th>\n",
       "      <th>Glass Doors</th>\n",
       "      <th>Swiming Pool</th>\n",
       "      <th>Garden</th>\n",
       "    </tr>\n",
       "  </thead>\n",
       "  <tbody>\n",
       "    <tr>\n",
       "      <th>87737</th>\n",
       "      <td>46</td>\n",
       "      <td>1</td>\n",
       "      <td>1</td>\n",
       "      <td>3</td>\n",
       "      <td>0</td>\n",
       "      <td>1</td>\n",
       "      <td>0</td>\n",
       "      <td>1</td>\n",
       "      <td>2</td>\n",
       "      <td>1</td>\n",
       "      <td>1</td>\n",
       "      <td>0</td>\n",
       "      <td>0</td>\n",
       "      <td>0</td>\n",
       "      <td>1</td>\n",
       "    </tr>\n",
       "  </tbody>\n",
       "</table>\n",
       "</div>"
      ],
      "text/plain": [
       "       Area  Garage  FirePlace  Baths  White Marble  Black Marble  \\\n",
       "87737    46       1          1      3             0             1   \n",
       "\n",
       "       Indian Marble  Floors  City  Solar  Electric  Fiber  Glass Doors  \\\n",
       "87737              0       1     2      1         1      0            0   \n",
       "\n",
       "       Swiming Pool  Garden  \n",
       "87737             0       1  "
      ]
     },
     "execution_count": 210,
     "metadata": {},
     "output_type": "execute_result"
    }
   ],
   "source": [
    "X3_test.head(1)"
   ]
  },
  {
   "cell_type": "code",
   "execution_count": 211,
   "id": "f4530371",
   "metadata": {},
   "outputs": [
    {
     "name": "stdout",
     "output_type": "stream",
     "text": [
      "$ 36650.00\n"
     ]
    },
    {
     "name": "stderr",
     "output_type": "stream",
     "text": [
      "E:\\anaconda3\\lib\\site-packages\\sklearn\\base.py:450: UserWarning: X does not have valid feature names, but LinearRegression was fitted with feature names\n",
      "  warnings.warn(\n"
     ]
    }
   ],
   "source": [
    "Area = 46\n",
    "Garage = 1\n",
    "FirePlace = 1\n",
    "Baths = 3\n",
    "WhiteMarble = 0\n",
    "BlackMarble = 1\n",
    "IndianMarble = 0\n",
    "Floors = 1\n",
    "City = 2\n",
    "Solar = 1\n",
    "Electric = 1\n",
    "Fiber = 0\n",
    "GlassDoors = 0\n",
    "SwimingPool = 0\n",
    "Garden = 1\n",
    "\n",
    "entrada=[[Area, Garage, FirePlace, Baths, WhiteMarble, BlackMarble, IndianMarble, Floors, City, Solar, Electric,\n",
    "            Fiber, GlassDoors, SwimingPool, Garden]]\n",
    "\n",
    "print('$ {0:.2f}'.format(modelo3.predict(entrada)[0]))"
   ]
  },
  {
   "cell_type": "code",
   "execution_count": 212,
   "id": "03b7a591",
   "metadata": {},
   "outputs": [
    {
     "data": {
      "text/plain": [
       "87737    36650\n",
       "Name: Prices, dtype: int64"
      ]
     },
     "execution_count": 212,
     "metadata": {},
     "output_type": "execute_result"
    }
   ],
   "source": [
    "y3_test.head(1)"
   ]
  },
  {
   "cell_type": "code",
   "execution_count": null,
   "id": "0675528d",
   "metadata": {},
   "outputs": [],
   "source": []
  }
 ],
 "metadata": {
  "kernelspec": {
   "display_name": "Python 3 (ipykernel)",
   "language": "python",
   "name": "python3"
  },
  "language_info": {
   "codemirror_mode": {
    "name": "ipython",
    "version": 3
   },
   "file_extension": ".py",
   "mimetype": "text/x-python",
   "name": "python",
   "nbconvert_exporter": "python",
   "pygments_lexer": "ipython3",
   "version": "3.9.12"
  }
 },
 "nbformat": 4,
 "nbformat_minor": 5
}
